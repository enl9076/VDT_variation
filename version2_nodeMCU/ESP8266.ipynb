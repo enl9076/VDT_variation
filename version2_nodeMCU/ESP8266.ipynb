{
 "cells": [
  {
   "cell_type": "code",
   "execution_count": 10,
   "metadata": {},
   "outputs": [
    {
     "name": "stdout",
     "output_type": "stream",
     "text": [
      "\u001b[34mConnecting to --port=COM4 --baud=115200 \u001b[0m\n",
      "\u001b[34mReady.\n",
      "\u001b[0m"
     ]
    }
   ],
   "source": [
    "%serialconnect to --port=COM4 --baud=115200"
   ]
  },
  {
   "cell_type": "code",
   "execution_count": 3,
   "metadata": {},
   "outputs": [],
   "source": [
    "import time\n",
    "import urequests\n",
    "from machine import RTC\n",
    "import ntptime\n",
    "rtc = RTC()"
   ]
  },
  {
   "cell_type": "code",
   "execution_count": 4,
   "metadata": {},
   "outputs": [],
   "source": [
    "from machine import Pin\n",
    "from machine import ADC\n",
    "pressure = ADC(0) \n",
    "#ledGREEN=Pin(14, Pin.OUT)\n",
    "#ledRED=Pin(12, Pin.OUT)\n",
    "#ledBLUE=Pin(13, Pin.OUT)"
   ]
  },
  {
   "cell_type": "code",
   "execution_count": 5,
   "metadata": {},
   "outputs": [
    {
     "name": "stdout",
     "output_type": "stream",
     "text": [
      "7\r\n"
     ]
    }
   ],
   "source": [
    "value = pressure.read()\n",
    "print(value)"
   ]
  },
  {
   "cell_type": "code",
   "execution_count": null,
   "metadata": {},
   "outputs": [],
   "source": [
    "if pressure.read() > 0:\n",
    "    print(pressure.read())\n",
    "    ledGREEN.on()\n",
    "    ledBLUE.on()\n",
    "else:\n",
    "    ledRED.on()\n",
    "    print(\"No pressure detected\")"
   ]
  },
  {
   "cell_type": "code",
   "execution_count": 6,
   "metadata": {},
   "outputs": [],
   "source": [
    "import network\n",
    "\n",
    "def do_connect():\n",
    "    wlan = network.WLAN(network.STA_IF)\n",
    "    wlan.active(True)\n",
    "    if not wlan.isconnected():\n",
    "        print('connecting to network...')\n",
    "        wlan.connect('TP-Link_F510', '23263376')\n",
    "        while not wlan.isconnected():\n",
    "            pass\n",
    "    print('network config:', wlan.ifconfig())\n",
    "\n",
    "do_connect()"
   ]
  },
  {
   "cell_type": "code",
   "execution_count": 8,
   "metadata": {},
   "outputs": [
    {
     "name": "stdout",
     "output_type": "stream",
     "text": [
      "(2021, 2, 7, 6, 20, 34, 7, 0)\r\n"
     ]
    }
   ],
   "source": [
    "ntptime.settime()\n",
    "rtc.datetime\n",
    "print(rtc.datetime())"
   ]
  },
  {
   "cell_type": "code",
   "execution_count": null,
   "metadata": {},
   "outputs": [
    {
     "name": "stdout",
     "output_type": "stream",
     "text": [
      "listening on ('0.0.0.0', 80)\n",
      "....................................."
     ]
    }
   ],
   "source": [
    "import machine\n",
    "pins = [machine.Pin(i, machine.Pin.IN) for i in (0, 2, 4, 5, 12, 13, 14, 15)]\n",
    "\n",
    "html = \"\"\"<!DOCTYPE html>\n",
    "<html>\n",
    "    <head> <title>ESP8266 Pins</title> </head>\n",
    "    <body> <h1>ESP8266 Pins</h1>\n",
    "        <table border=\"1\"> <tr><th>Pin</th><th>Value</th></tr> %s </table>\n",
    "    </body>\n",
    "</html>\n",
    "\"\"\"\n",
    "\n",
    "import socket\n",
    "addr = socket.getaddrinfo('0.0.0.0', 80)[0][-1]\n",
    "\n",
    "s = socket.socket()\n",
    "s.bind(addr)\n",
    "s.listen(1)\n",
    "\n",
    "print('listening on', addr)\n",
    "\n",
    "while True:\n",
    "    cl, addr = s.accept()\n",
    "    print('client connected from', addr)\n",
    "    cl_file = cl.makefile('rwb', 0)\n",
    "    while True:\n",
    "        line = cl_file.readline()\n",
    "        if not line or line == b'\\r\\n':\n",
    "            break\n",
    "    rows = ['<tr><td>%s</td><td>%d</td></tr>' % (str(p), p.value()) for p in pins]\n",
    "    response = html % '\\n'.join(rows)\n",
    "    cl.send('HTTP/1.0 200 OK\\r\\nContent-type: text/html\\r\\n\\r\\n')\n",
    "    cl.send(response)\n",
    "    cl.close()"
   ]
  }
 ],
 "metadata": {
  "kernelspec": {
   "display_name": "MicroPython - USB",
   "language": "micropython",
   "name": "micropython"
  },
  "language_info": {
   "codemirror_mode": "python",
   "file_extension": ".py",
   "mimetype": "text/python",
   "name": "micropython"
  }
 },
 "nbformat": 4,
 "nbformat_minor": 4
}
